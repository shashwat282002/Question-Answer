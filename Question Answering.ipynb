{
 "cells": [
  {
   "cell_type": "code",
   "execution_count": null,
   "id": "1f9825dd",
   "metadata": {},
   "outputs": [
    {
     "name": "stdout",
     "output_type": "stream",
     "text": [
      "Collecting transformers\n",
      "  Downloading transformers-4.30.1-py3-none-any.whl (7.2 MB)\n",
      "\u001b[2K     \u001b[90m━━━━━━━━━━━━━━━━━━━━━━━━━━━━━━━━━━━━━━━━\u001b[0m \u001b[32m7.2/7.2 MB\u001b[0m \u001b[31m17.6 MB/s\u001b[0m eta \u001b[36m0:00:00\u001b[0m00:01\u001b[0m00:01\u001b[0m\n",
      "\u001b[?25hCollecting numpy>=1.17\n",
      "  Downloading numpy-1.24.3-cp310-cp310-macosx_11_0_arm64.whl (13.9 MB)\n",
      "\u001b[2K     \u001b[90m━━━━━━━━━━━━━━━━━━━━━━━━━━━━━━━━━━━━━━━━\u001b[0m \u001b[32m13.9/13.9 MB\u001b[0m \u001b[31m29.8 MB/s\u001b[0m eta \u001b[36m0:00:00\u001b[0m00:01\u001b[0m00:01\u001b[0m\n",
      "\u001b[?25hRequirement already satisfied: pyyaml>=5.1 in ./anaconda3/lib/python3.10/site-packages (from transformers) (6.0)\n",
      "Requirement already satisfied: requests in ./anaconda3/lib/python3.10/site-packages (from transformers) (2.29.0)\n",
      "Collecting tokenizers!=0.11.3,<0.14,>=0.11.1\n",
      "  Downloading tokenizers-0.13.3-cp310-cp310-macosx_12_0_arm64.whl (3.9 MB)\n",
      "\u001b[2K     \u001b[90m━━━━━━━━━━━━━━━━━━━━━━━━━━━━━━━━━━━━━━━━\u001b[0m \u001b[32m3.9/3.9 MB\u001b[0m \u001b[31m24.3 MB/s\u001b[0m eta \u001b[36m0:00:00\u001b[0m00:01\u001b[0m00:01\u001b[0m\n",
      "\u001b[?25hRequirement already satisfied: tqdm>=4.27 in ./anaconda3/lib/python3.10/site-packages (from transformers) (4.65.0)\n",
      "Requirement already satisfied: packaging>=20.0 in ./anaconda3/lib/python3.10/site-packages (from transformers) (23.0)\n",
      "Collecting regex!=2019.12.17\n",
      "  Downloading regex-2023.6.3-cp310-cp310-macosx_11_0_arm64.whl (288 kB)\n",
      "\u001b[2K     \u001b[90m━━━━━━━━━━━━━━━━━━━━━━━━━━━━━━━━━━━━━━\u001b[0m \u001b[32m289.0/289.0 kB\u001b[0m \u001b[31m16.3 MB/s\u001b[0m eta \u001b[36m0:00:00\u001b[0m\n",
      "\u001b[?25hCollecting huggingface-hub<1.0,>=0.14.1\n",
      "  Using cached huggingface_hub-0.15.1-py3-none-any.whl (236 kB)\n",
      "Collecting safetensors>=0.3.1\n",
      "  Downloading safetensors-0.3.1-cp310-cp310-macosx_12_0_arm64.whl (401 kB)\n",
      "\u001b[2K     \u001b[90m━━━━━━━━━━━━━━━━━━━━━━━━━━━━━━━━━━━━━━\u001b[0m \u001b[32m401.4/401.4 kB\u001b[0m \u001b[31m14.0 MB/s\u001b[0m eta \u001b[36m0:00:00\u001b[0m\n",
      "\u001b[?25hRequirement already satisfied: filelock in ./anaconda3/lib/python3.10/site-packages (from transformers) (3.9.0)\n",
      "Requirement already satisfied: typing-extensions>=3.7.4.3 in ./anaconda3/lib/python3.10/site-packages (from huggingface-hub<1.0,>=0.14.1->transformers) (4.6.3)\n",
      "Collecting fsspec\n",
      "  Downloading fsspec-2023.6.0-py3-none-any.whl (163 kB)\n",
      "\u001b[2K     \u001b[90m━━━━━━━━━━━━━━━━━━━━━━━━━━━━━━━━━━━━━━━\u001b[0m \u001b[32m163.8/163.8 kB\u001b[0m \u001b[31m6.3 MB/s\u001b[0m eta \u001b[36m0:00:00\u001b[0m\n",
      "\u001b[?25hRequirement already satisfied: idna<4,>=2.5 in ./anaconda3/lib/python3.10/site-packages (from requests->transformers) (3.4)\n",
      "Requirement already satisfied: certifi>=2017.4.17 in ./anaconda3/lib/python3.10/site-packages (from requests->transformers) (2023.5.7)\n",
      "Requirement already satisfied: urllib3<1.27,>=1.21.1 in ./anaconda3/lib/python3.10/site-packages (from requests->transformers) (1.26.16)\n",
      "Requirement already satisfied: charset-normalizer<4,>=2 in ./anaconda3/lib/python3.10/site-packages (from requests->transformers) (2.0.4)\n",
      "Installing collected packages: tokenizers, safetensors, regex, numpy, fsspec, huggingface-hub, transformers\n",
      "\u001b[31mERROR: pip's dependency resolver does not currently take into account all the packages that are installed. This behaviour is the source of the following dependency conflicts.\n",
      "tensorflow-macos 2.13.0rc1 requires h5py>=2.9.0, which is not installed.\n",
      "tensorflow-macos 2.13.0rc1 requires wrapt>=1.11.0, which is not installed.\n",
      "tensorflow-datasets 4.9.2 requires wrapt, which is not installed.\n",
      "tensorboard 2.13.0 requires markdown>=2.6.8, which is not installed.\n",
      "tensorboard 2.13.0 requires werkzeug>=1.0.1, which is not installed.\n",
      "fastparquet 2023.4.0 requires pandas>=1.5.0, which is not installed.\u001b[0m\u001b[31m\n",
      "\u001b[0mSuccessfully installed fsspec-2023.6.0 huggingface-hub-0.15.1 numpy-1.24.3 regex-2023.6.3 safetensors-0.3.1 tokenizers-0.13.3 transformers-4.30.1\n",
      "Note: you may need to restart the kernel to use updated packages.\n"
     ]
    }
   ],
   "source": [
    "pip install transformers"
   ]
  },
  {
   "cell_type": "code",
   "execution_count": null,
   "id": "b7ec848b",
   "metadata": {},
   "outputs": [
    {
     "name": "stdout",
     "output_type": "stream",
     "text": [
      "Collecting torch\n",
      "  Downloading torch-2.0.1-cp310-none-macosx_11_0_arm64.whl (55.8 MB)\n",
      "\u001b[2K     \u001b[90m━━━━━━━━━━━━━━━━━━━━━━━━━━━━━━━━━━━━━━━━\u001b[0m \u001b[32m55.8/55.8 MB\u001b[0m \u001b[31m25.9 MB/s\u001b[0m eta \u001b[36m0:00:00\u001b[0m00:01\u001b[0m00:01\u001b[0m\n",
      "\u001b[?25hCollecting sympy\n",
      "  Using cached sympy-1.12-py3-none-any.whl (5.7 MB)\n",
      "Requirement already satisfied: filelock in ./anaconda3/lib/python3.10/site-packages (from torch) (3.9.0)\n",
      "Collecting networkx\n",
      "  Using cached networkx-3.1-py3-none-any.whl (2.1 MB)\n",
      "Requirement already satisfied: jinja2 in ./anaconda3/lib/python3.10/site-packages (from torch) (3.1.2)\n",
      "Requirement already satisfied: typing-extensions in ./anaconda3/lib/python3.10/site-packages (from torch) (4.6.3)\n",
      "Requirement already satisfied: MarkupSafe>=2.0 in ./anaconda3/lib/python3.10/site-packages (from jinja2->torch) (2.1.1)\n",
      "Collecting mpmath>=0.19\n",
      "  Using cached mpmath-1.3.0-py3-none-any.whl (536 kB)\n",
      "Installing collected packages: mpmath, sympy, networkx, torch\n",
      "Successfully installed mpmath-1.3.0 networkx-3.1 sympy-1.12 torch-2.0.1\n",
      "Note: you may need to restart the kernel to use updated packages.\n"
     ]
    }
   ],
   "source": [
    "pip install torch"
   ]
  },
  {
   "cell_type": "code",
   "execution_count": 2,
   "id": "94e3e884",
   "metadata": {},
   "outputs": [
    {
     "name": "stderr",
     "output_type": "stream",
     "text": [
      "/Users/shashwatbindal/anaconda3/lib/python3.10/site-packages/tqdm/auto.py:21: TqdmWarning: IProgress not found. Please update jupyter and ipywidgets. See https://ipywidgets.readthedocs.io/en/stable/user_install.html\n",
      "  from .autonotebook import tqdm as notebook_tqdm\n"
     ]
    }
   ],
   "source": [
    "from transformers import BertForQuestionAnswering\n",
    "from transformers import BertTokenizer\n",
    "import torch\n",
    "import numpy as np"
   ]
  },
  {
   "cell_type": "code",
   "execution_count": 3,
   "id": "ace212e9",
   "metadata": {},
   "outputs": [],
   "source": [
    "model = BertForQuestionAnswering.from_pretrained('bert-large-uncased-whole-word-masking-finetuned-squad')\n",
    "tokenizer_for_bert = BertTokenizer.from_pretrained('bert-large-uncased-whole-word-masking-finetuned-squad')"
   ]
  },
  {
   "cell_type": "code",
   "execution_count": 4,
   "id": "148cfe97",
   "metadata": {},
   "outputs": [],
   "source": [
    "def bert_question_answer(question, passage, max_len=512):\n",
    "    # Tokenize input question and passage\n",
    "    # Add special tokens - [CLS] and [SEP]\n",
    "    input_ids = tokenizer_for_bert.encode(question, passage, max_length=max_len, truncation=True)\n",
    "\n",
    "    # Getting number of tokens in 1st sentence (question) and 2nd sentence (passage that contains answer)\n",
    "    sep_index = input_ids.index(102)\n",
    "    len_question = sep_index + 1\n",
    "    len_passage = len(input_ids) - len_question\n",
    "\n",
    "    # Need to separate question and passage\n",
    "    # Segment ids will be 0 for question and 1 for passage\n",
    "    segment_ids = [0] * len_question + [1] * len_passage\n",
    "\n",
    "    # Converting token ids to tokens\n",
    "    tokens = tokenizer_for_bert.convert_ids_to_tokens(input_ids)\n",
    "\n",
    "    # Getting start and end scores for answer\n",
    "    # Converting input arrays to torch tensors before passing to the model\n",
    "    start_token_scores = model(torch.tensor([input_ids]), token_type_ids=torch.tensor([segment_ids]))[0]\n",
    "    end_token_scores = model(torch.tensor([input_ids]), token_type_ids=torch.tensor([segment_ids]))[1]\n",
    "\n",
    "    # Converting scores tensors to numpy arrays\n",
    "    start_token_scores = start_token_scores.detach().numpy().flatten()\n",
    "    end_token_scores = end_token_scores.detach().numpy().flatten()\n",
    "\n",
    "    # Getting start and end index of answer based on highest scores\n",
    "    answer_start_index = np.argmax(start_token_scores)\n",
    "    answer_end_index = np.argmax(end_token_scores)\n",
    "\n",
    "    # Getting scores for start and end token of the answer\n",
    "    start_token_score = np.round(start_token_scores[answer_start_index], 2)\n",
    "    end_token_score = np.round(end_token_scores[answer_end_index], 2)\n",
    "\n",
    "    # Combining subwords starting with ## and get full words in output.\n",
    "    # It is because tokenizer breaks words which are not in its vocab.\n",
    "    answer = tokens[answer_start_index]\n",
    "    for i in range(answer_start_index + 1, answer_end_index + 1):\n",
    "        if tokens[i][0:2] == '##':\n",
    "            answer += tokens[i][2:]\n",
    "        else:\n",
    "            answer += ' ' + tokens[i]\n",
    "\n",
    "    # If the answer didn't find in the passage\n",
    "    if (answer_start_index == 0) or (start_token_score < 0) or (answer == '[SEP]') or (answer_end_index < answer_start_index):\n",
    "        answer = \"Sorry!, I could not find an answer in the passage.\"\n",
    "\n",
    "    return (answer_start_index, answer_end_index, start_token_score, end_token_score, answer)\n",
    "\n",
    "def split_passage_and_process(question, passage, max_len=10000, chunk_size=500):\n",
    "    # Split the passage into smaller chunks\n",
    "    passage_chunks = [passage[i:i+chunk_size] for i in range(0, len(passage), chunk_size)]\n",
    "    answers = []\n",
    "    # Process each chunk separately\n",
    "    for chunk in passage_chunks:\n",
    "        answer = bert_question_answer(question, chunk, max_len=max_len)\n",
    "        if answer[-1] != \"Sorry!, I could not find an answer in the passage.\":\n",
    "            answers.append(answer[-1])\n",
    "\n",
    "    # Combine the answers from all chunks\n",
    "    combined_answer = \" \".join(answers)\n",
    "    return combined_answer"
   ]
  },
  {
   "cell_type": "code",
   "execution_count": 5,
   "id": "4a671d4d",
   "metadata": {},
   "outputs": [
    {
     "name": "stdout",
     "output_type": "stream",
     "text": [
      "Requirement already satisfied: soundfile in ./anaconda3/lib/python3.10/site-packages (0.12.1)\n",
      "Requirement already satisfied: cffi>=1.0 in ./anaconda3/lib/python3.10/site-packages (from soundfile) (1.15.1)\n",
      "Requirement already satisfied: pycparser in ./anaconda3/lib/python3.10/site-packages (from cffi>=1.0->soundfile) (2.21)\n",
      "Note: you may need to restart the kernel to use updated packages.\n"
     ]
    }
   ],
   "source": [
    "pip install soundfile"
   ]
  },
  {
   "cell_type": "code",
   "execution_count": 9,
   "id": "65a2bd30",
   "metadata": {},
   "outputs": [],
   "source": [
    "import sounddevice as sd\n",
    "import soundfile as sf\n",
    "\n",
    "# Set the audio settings\n",
    "sample_rate = 44100\n",
    "duration = 5 # Duration in seconds\n",
    "output_file = \"audio.wav\"\n",
    "\n",
    "# Record audio from the laptop's microphone\n",
    "# print(\"Recording audio...\")\n",
    "# audio = sd.rec(int(sample_rate * duration), samplerate=sample_rate, channels=1)\n",
    "# sd.wait()\n",
    "\n",
    "# # Save the audio to a file\n",
    "# sf.write(output_file, audio, sample_rate)\n",
    "\n",
    "# print(f\"Audio saved to {output_file}\")"
   ]
  },
  {
   "cell_type": "code",
   "execution_count": null,
   "id": "ad56ba0d",
   "metadata": {},
   "outputs": [],
   "source": [
    "brew install flac"
   ]
  },
  {
   "cell_type": "code",
   "execution_count": null,
   "id": "c18b1d45",
   "metadata": {},
   "outputs": [],
   "source": [
    "pip install pyttsx3\n"
   ]
  },
  {
   "cell_type": "code",
   "execution_count": null,
   "id": "9c2b404b",
   "metadata": {},
   "outputs": [],
   "source": [
    "pip install comtypes\n"
   ]
  },
  {
   "cell_type": "code",
   "execution_count": null,
   "id": "6cc9e55b",
   "metadata": {},
   "outputs": [],
   "source": [
    "pip install gtts\n"
   ]
  },
  {
   "cell_type": "code",
   "execution_count": null,
   "id": "52888e7b",
   "metadata": {},
   "outputs": [],
   "source": [
    "pip install python-vlc\n"
   ]
  },
  {
   "cell_type": "code",
   "execution_count": 10,
   "id": "6f534aef",
   "metadata": {},
   "outputs": [],
   "source": [
    "\n",
    "import speech_recognition as sr\n",
    "\n",
    "# Create a recognizer object\n",
    "# r = sr.Recognizer()\n",
    "\n",
    "# # Path to the audio file\n",
    "# audio_file = \"audio.wav\"\n",
    "\n",
    "# # Load the audio file\n",
    "# with sr.AudioFile(audio_file) as source:\n",
    "#     # Read the audio data\n",
    "#     audio = r.record(source)\n",
    "\n",
    "# try:\n",
    "#     # Recognize speech from the audio\n",
    "#     text = r.recognize_google(audio)\n",
    "#     print(\"Transcription:\", text)\n",
    "# except sr.UnknownValueError:\n",
    "#     print(\"Speech recognition could not understand audio\")\n",
    "# except sr.RequestError as e:\n",
    "#     print(\"Could not request results from Google Speech Recognition service; {0}\".format(e))\n"
   ]
  },
  {
   "cell_type": "code",
   "execution_count": 11,
   "id": "e976891b",
   "metadata": {},
   "outputs": [],
   "source": [
    "def askquestion(audio_file,output_file):\n",
    "    print(\"Recording audio...\")\n",
    "    audio = sd.rec(int(sample_rate * duration), samplerate=sample_rate, channels=1)\n",
    "    sd.wait()\n",
    "\n",
    "    # Save the audio to a file\n",
    "    sf.write(output_file, audio, sample_rate)\n",
    "\n",
    "    print(f\"Audio saved to {output_file}\")\n",
    "    r = sr.Recognizer()\n",
    "\n",
    "    # Path to the audio file\n",
    "\n",
    "    # Load the audio file\n",
    "    with sr.AudioFile(audio_file) as source:\n",
    "        # Read the audio data\n",
    "        audio = r.record(source)\n",
    "    text=\"\"    \n",
    "\n",
    "    try:\n",
    "        # Recognize speech from the audio\n",
    "        text = r.recognize_google(audio)\n",
    "        print(\"Transcription:\", text)\n",
    "    except sr.UnknownValueError:\n",
    "        print(\"Speech recognition could not understand audio\")\n",
    "    except sr.RequestError as e:\n",
    "        print(\"Could not request results from Google Speech Recognition service; {0}\".format(e))\n",
    "\n",
    "    return text\n",
    "    "
   ]
  },
  {
   "cell_type": "code",
   "execution_count": 13,
   "id": "9c46ba65",
   "metadata": {},
   "outputs": [
    {
     "name": "stdout",
     "output_type": "stream",
     "text": [
      "Recording audio...\n",
      "Audio saved to text.wav\n",
      "Transcription: hello how are you I am good how are you doing\n"
     ]
    },
    {
     "data": {
      "text/plain": [
       "'hello how are you I am good how are you doing'"
      ]
     },
     "execution_count": 13,
     "metadata": {},
     "output_type": "execute_result"
    }
   ],
   "source": [
    "text=askquestion(\"text.wav\",\"text.wav\")\n",
    "text"
   ]
  },
  {
   "cell_type": "code",
   "execution_count": 14,
   "id": "3174bc3e",
   "metadata": {},
   "outputs": [
    {
     "data": {
      "text/plain": [
       "'hello how are you I am good how are you doing'"
      ]
     },
     "execution_count": 14,
     "metadata": {},
     "output_type": "execute_result"
    }
   ],
   "source": [
    "text"
   ]
  },
  {
   "cell_type": "code",
   "execution_count": null,
   "id": "e294cad3",
   "metadata": {},
   "outputs": [
    {
     "name": "stdout",
     "output_type": "stream",
     "text": [
      "Collecting gtts\n",
      "  Using cached gTTS-2.3.2-py3-none-any.whl (28 kB)\n",
      "Requirement already satisfied: click<8.2,>=7.1 in ./anaconda3/lib/python3.10/site-packages (from gtts) (8.0.4)\n",
      "Requirement already satisfied: requests<3,>=2.27 in ./anaconda3/lib/python3.10/site-packages (from gtts) (2.29.0)\n",
      "Requirement already satisfied: urllib3<1.27,>=1.21.1 in ./anaconda3/lib/python3.10/site-packages (from requests<3,>=2.27->gtts) (1.26.16)\n",
      "Requirement already satisfied: idna<4,>=2.5 in ./anaconda3/lib/python3.10/site-packages (from requests<3,>=2.27->gtts) (3.4)\n",
      "Requirement already satisfied: certifi>=2017.4.17 in ./anaconda3/lib/python3.10/site-packages (from requests<3,>=2.27->gtts) (2023.5.7)\n",
      "Requirement already satisfied: charset-normalizer<4,>=2 in ./anaconda3/lib/python3.10/site-packages (from requests<3,>=2.27->gtts) (2.0.4)\n",
      "Installing collected packages: gtts\n",
      "Successfully installed gtts-2.3.2\n",
      "Note: you may need to restart the kernel to use updated packages.\n"
     ]
    }
   ],
   "source": [
    "pip install gtts"
   ]
  },
  {
   "cell_type": "code",
   "execution_count": 15,
   "id": "b82550c4",
   "metadata": {},
   "outputs": [],
   "source": [
    "from gtts import gTTS\n",
    "\n",
    "def text_to_speech(text, output_file):\n",
    "    # Create a gTTS object with the text and desired language\n",
    "    tts = gTTS(text=text, lang='en')\n",
    "\n",
    "    # Save the audio to a file\n",
    "    tts.save(output_file)\n",
    "\n",
    "# Example usage\n",
    "\n",
    "output_file = \"output.mp3\"\n",
    "\n",
    "text_to_speech(text, output_file)"
   ]
  },
  {
   "cell_type": "code",
   "execution_count": null,
   "id": "3d18524f",
   "metadata": {},
   "outputs": [
    {
     "name": "stdout",
     "output_type": "stream",
     "text": [
      "Collecting pygame\n",
      "  Downloading pygame-2.4.0-cp310-cp310-macosx_11_0_arm64.whl (12.2 MB)\n",
      "\u001b[2K     \u001b[90m━━━━━━━━━━━━━━━━━━━━━━━━━━━━━━━━━━━━━━━━\u001b[0m \u001b[32m12.2/12.2 MB\u001b[0m \u001b[31m29.5 MB/s\u001b[0m eta \u001b[36m0:00:00\u001b[0m00:01\u001b[0m00:01\u001b[0m\n",
      "\u001b[?25hInstalling collected packages: pygame\n",
      "Successfully installed pygame-2.4.0\n",
      "Note: you may need to restart the kernel to use updated packages.\n"
     ]
    }
   ],
   "source": [
    "pip install pygame"
   ]
  },
  {
   "cell_type": "code",
   "execution_count": 16,
   "id": "666f4c64",
   "metadata": {},
   "outputs": [
    {
     "name": "stdout",
     "output_type": "stream",
     "text": [
      "pygame 2.4.0 (SDL 2.26.4, Python 3.10.11)\n",
      "Hello from the pygame community. https://www.pygame.org/contribute.html\n"
     ]
    }
   ],
   "source": [
    "import pygame\n",
    "\n",
    "def play_mp3(file_path):\n",
    "    pygame.mixer.init()\n",
    "    pygame.mixer.music.load(file_path)\n",
    "    pygame.mixer.music.play()"
   ]
  },
  {
   "cell_type": "code",
   "execution_count": 17,
   "id": "a9526751",
   "metadata": {},
   "outputs": [],
   "source": [
    "def Passageready():\n",
    "\n",
    "    output_file2=\"passage.mp3\"\n",
    "    text_to_speech(\"Give the passage you want to ask questions from\", output_file2)\n",
    "    play_mp3(output_file2)\n",
    "    passage=input(\"Enter the Passage: \")\n",
    "    return passage\n"
   ]
  },
  {
   "cell_type": "code",
   "execution_count": 18,
   "id": "3bda88b8",
   "metadata": {},
   "outputs": [],
   "source": [
    "def QuestionAnswer(passage):\n",
    "    \n",
    "    output_file=\"Ask.mp3\"\n",
    "    text_to_speech(\"Ask the question\", output_file)\n",
    "    play_mp3(output_file)\n",
    "    question=askquestion(\"question.wav\",\"question.wav\")\n",
    "    ans  = split_passage_and_process( question, passage)\n",
    "    output_file3=\"answer.mp3\"\n",
    "    text_to_speech(\"The Answer to the question....: \"+question+\"...\"+\"is....:\"+ans, output_file3)\n",
    "    play_mp3(output_file3)\n",
    "    return ans\n"
   ]
  },
  {
   "cell_type": "code",
   "execution_count": 19,
   "id": "79e20fe7",
   "metadata": {},
   "outputs": [],
   "source": [
    "passage=Passageready()"
   ]
  },
  {
   "cell_type": "code",
   "execution_count": 20,
   "id": "5ba93c67",
   "metadata": {},
   "outputs": [
    {
     "name": "stdout",
     "output_type": "stream",
     "text": [
      "Recording audio...\n",
      "Audio saved to question.wav\n",
      "Transcription: what is Manoj\n"
     ]
    }
   ],
   "source": [
    "ans=QuestionAnswer(passage)"
   ]
  },
  {
   "cell_type": "code",
   "execution_count": 21,
   "id": "888c650c",
   "metadata": {},
   "outputs": [
    {
     "data": {
      "text/plain": [
       "'sanoj is bhadwa'"
      ]
     },
     "execution_count": 21,
     "metadata": {},
     "output_type": "execute_result"
    }
   ],
   "source": [
    "ans"
   ]
  }
 ],
 "metadata": {
  "kernelspec": {
   "display_name": "base",
   "language": "python",
   "name": "python3"
  },
  "language_info": {
   "codemirror_mode": {
    "name": "ipython",
    "version": 3
   },
   "file_extension": ".py",
   "mimetype": "text/x-python",
   "name": "python",
   "nbconvert_exporter": "python",
   "pygments_lexer": "ipython3",
   "version": "3.10.11"
  }
 },
 "nbformat": 4,
 "nbformat_minor": 5
}
